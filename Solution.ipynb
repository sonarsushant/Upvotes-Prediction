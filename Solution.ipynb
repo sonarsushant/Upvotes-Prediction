{
 "cells": [
  {
   "cell_type": "markdown",
   "metadata": {},
   "source": [
    "## Imports"
   ]
  },
  {
   "cell_type": "code",
   "execution_count": 1,
   "metadata": {
    "ExecuteTime": {
     "end_time": "2019-01-09T17:34:36.480859Z",
     "start_time": "2019-01-09T17:34:35.402703Z"
    }
   },
   "outputs": [],
   "source": [
    "import numpy as np\n",
    "import pandas as pd\n",
    "import matplotlib.pyplot as plt\n",
    "import seaborn as sns\n",
    "%matplotlib inline"
   ]
  },
  {
   "cell_type": "code",
   "execution_count": 2,
   "metadata": {
    "ExecuteTime": {
     "end_time": "2019-01-09T17:34:36.650440Z",
     "start_time": "2019-01-09T17:34:36.482838Z"
    }
   },
   "outputs": [],
   "source": [
    "from sklearn.preprocessing import StandardScaler,PolynomialFeatures\n",
    "from sklearn.model_selection import train_test_split\n",
    "from skopt import BayesSearchCV\n",
    "from sklearn.metrics import mean_squared_error,r2_score\n",
    "from sklearn.model_selection import learning_curve,cross_val_score,validation_curve,train_test_split,KFold\n",
    "\n",
    "from sklearn.linear_model import LinearRegression\n",
    "from xgboost import XGBRegressor,plot_importance\n",
    "import joblib\n"
   ]
  },
  {
   "cell_type": "code",
   "execution_count": 3,
   "metadata": {
    "ExecuteTime": {
     "end_time": "2019-01-09T17:34:36.660933Z",
     "start_time": "2019-01-09T17:34:36.651958Z"
    },
    "code_folding": [
     0
    ]
   },
   "outputs": [],
   "source": [
    "#functions\n",
    "def remove_by_vif(X,vif=5):\n",
    "    \"\"\"Remove columns from X whose VIF is greater than supplied 'vif'\n",
    "    Parameters:\n",
    "        X:array or dataframe containing data excluding target variable\n",
    "        vif: int or float of limiting value of VIF\n",
    "    Note:\n",
    "        This function changes X inplace\n",
    "    \"\"\"\n",
    "    import statsmodels.api as sm\n",
    "    from statsmodels.stats.outliers_influence import variance_inflation_factor\n",
    "    \n",
    "    removed=[]\n",
    "    for i in range(len(X.columns)):\n",
    "        l = [variance_inflation_factor(X.values, i) for i in range(X.shape[1])]\n",
    "        s=pd.Series(index=X.columns,data=l).sort_values(ascending=False)\n",
    "        if s.iloc[0]>vif:\n",
    "            X.drop(s.index[0],axis=1,inplace=True)\n",
    "            print(s.index[0],', VIF: ',s.iloc[0])\n",
    "            removed.append(s.index[0])\n",
    "        else:\n",
    "            break\n",
    "    return removed\n",
    "            \n",
    "def plot_validation_curve(scores,param_range,param_name,scoring='r2'):\n",
    "    \"\"\"This function plot validation curve.\n",
    "    \n",
    "    Parameters:\n",
    "        scores: scores obtained from validation_curve() method\n",
    "        param_range: list of range of parameters passed as 'param_range' in validation_curve() method\n",
    "        scoring: str\n",
    "    \"\"\"\n",
    "    n=len(param_range)\n",
    "    if scoring=='r2':\n",
    "        train_score=[scores[0][i].mean() for i in range (0,n)]\n",
    "        test_score=[scores[1][i].mean() for i in range (0,n)]\n",
    "    elif scoring=='neg_mean_squared_error':\n",
    "        train_score=[np.sqrt(-scores[0][i].mean()) for i in range (0,n)]\n",
    "        test_score=[np.sqrt(-scores[1][i].mean()) for i in range (0,n)]\n",
    "\n",
    "    fig=plt.figure(figsize=(8,6))\n",
    "    plt.plot(param_range,train_score,label='Train')\n",
    "    plt.plot(param_range,test_score,label='Test')\n",
    "    plt.xticks=param_range\n",
    "    plt.title(\"Validation curve of {}\".format(param_name),size=12)\n",
    "    plt.legend()"
   ]
  },
  {
   "cell_type": "markdown",
   "metadata": {},
   "source": [
    "## EDA and Feature Engineering"
   ]
  },
  {
   "cell_type": "code",
   "execution_count": 4,
   "metadata": {
    "ExecuteTime": {
     "end_time": "2019-01-09T17:34:37.042291Z",
     "start_time": "2019-01-09T17:34:36.663926Z"
    }
   },
   "outputs": [],
   "source": [
    "data=pd.read_csv('data/train_NIR5Yl1.csv')"
   ]
  },
  {
   "cell_type": "code",
   "execution_count": 5,
   "metadata": {
    "ExecuteTime": {
     "end_time": "2019-01-09T17:34:37.062272Z",
     "start_time": "2019-01-09T17:34:37.045285Z"
    }
   },
   "outputs": [
    {
     "data": {
      "text/html": [
       "<div>\n",
       "<style scoped>\n",
       "    .dataframe tbody tr th:only-of-type {\n",
       "        vertical-align: middle;\n",
       "    }\n",
       "\n",
       "    .dataframe tbody tr th {\n",
       "        vertical-align: top;\n",
       "    }\n",
       "\n",
       "    .dataframe thead th {\n",
       "        text-align: right;\n",
       "    }\n",
       "</style>\n",
       "<table border=\"1\" class=\"dataframe\">\n",
       "  <thead>\n",
       "    <tr style=\"text-align: right;\">\n",
       "      <th></th>\n",
       "      <th>ID</th>\n",
       "      <th>Tag</th>\n",
       "      <th>Reputation</th>\n",
       "      <th>Answers</th>\n",
       "      <th>Username</th>\n",
       "      <th>Views</th>\n",
       "      <th>Upvotes</th>\n",
       "    </tr>\n",
       "  </thead>\n",
       "  <tbody>\n",
       "    <tr>\n",
       "      <th>0</th>\n",
       "      <td>52664</td>\n",
       "      <td>a</td>\n",
       "      <td>3942.0</td>\n",
       "      <td>2.0</td>\n",
       "      <td>155623</td>\n",
       "      <td>7855.0</td>\n",
       "      <td>42.0</td>\n",
       "    </tr>\n",
       "    <tr>\n",
       "      <th>1</th>\n",
       "      <td>327662</td>\n",
       "      <td>a</td>\n",
       "      <td>26046.0</td>\n",
       "      <td>12.0</td>\n",
       "      <td>21781</td>\n",
       "      <td>55801.0</td>\n",
       "      <td>1175.0</td>\n",
       "    </tr>\n",
       "    <tr>\n",
       "      <th>2</th>\n",
       "      <td>468453</td>\n",
       "      <td>c</td>\n",
       "      <td>1358.0</td>\n",
       "      <td>4.0</td>\n",
       "      <td>56177</td>\n",
       "      <td>8067.0</td>\n",
       "      <td>60.0</td>\n",
       "    </tr>\n",
       "    <tr>\n",
       "      <th>3</th>\n",
       "      <td>96996</td>\n",
       "      <td>a</td>\n",
       "      <td>264.0</td>\n",
       "      <td>3.0</td>\n",
       "      <td>168793</td>\n",
       "      <td>27064.0</td>\n",
       "      <td>9.0</td>\n",
       "    </tr>\n",
       "    <tr>\n",
       "      <th>4</th>\n",
       "      <td>131465</td>\n",
       "      <td>c</td>\n",
       "      <td>4271.0</td>\n",
       "      <td>4.0</td>\n",
       "      <td>112223</td>\n",
       "      <td>13986.0</td>\n",
       "      <td>83.0</td>\n",
       "    </tr>\n",
       "  </tbody>\n",
       "</table>\n",
       "</div>"
      ],
      "text/plain": [
       "       ID Tag  Reputation  Answers  Username    Views  Upvotes\n",
       "0   52664   a      3942.0      2.0    155623   7855.0     42.0\n",
       "1  327662   a     26046.0     12.0     21781  55801.0   1175.0\n",
       "2  468453   c      1358.0      4.0     56177   8067.0     60.0\n",
       "3   96996   a       264.0      3.0    168793  27064.0      9.0\n",
       "4  131465   c      4271.0      4.0    112223  13986.0     83.0"
      ]
     },
     "execution_count": 5,
     "metadata": {},
     "output_type": "execute_result"
    }
   ],
   "source": [
    "data.head()"
   ]
  },
  {
   "cell_type": "markdown",
   "metadata": {},
   "source": [
    "**Tag** and **Username** are categorical variables. Rest are numberical variables.\n",
    "\n",
    "Also, no null values are present in data"
   ]
  },
  {
   "cell_type": "code",
   "execution_count": 6,
   "metadata": {
    "ExecuteTime": {
     "end_time": "2019-01-09T17:34:37.198714Z",
     "start_time": "2019-01-09T17:34:37.064235Z"
    }
   },
   "outputs": [
    {
     "name": "stdout",
     "output_type": "stream",
     "text": [
      "<class 'pandas.core.frame.DataFrame'>\n",
      "RangeIndex: 330045 entries, 0 to 330044\n",
      "Data columns (total 7 columns):\n",
      "ID            330045 non-null int64\n",
      "Tag           330045 non-null object\n",
      "Reputation    330045 non-null float64\n",
      "Answers       330045 non-null float64\n",
      "Username      330045 non-null int64\n",
      "Views         330045 non-null float64\n",
      "Upvotes       330045 non-null float64\n",
      "dtypes: float64(4), int64(2), object(1)\n",
      "memory usage: 17.6+ MB\n"
     ]
    }
   ],
   "source": [
    "data.info()"
   ]
  },
  {
   "cell_type": "code",
   "execution_count": 7,
   "metadata": {
    "ExecuteTime": {
     "end_time": "2019-01-09T17:34:37.290438Z",
     "start_time": "2019-01-09T17:34:37.201675Z"
    }
   },
   "outputs": [
    {
     "name": "stdout",
     "output_type": "stream",
     "text": [
      "ID 330045\n",
      "Tag 10\n",
      "Reputation 16527\n",
      "Answers 63\n",
      "Username 141802\n",
      "Views 82137\n",
      "Upvotes 7239\n"
     ]
    }
   ],
   "source": [
    "# Check unique counts of each column\n",
    "for col in data.columns:\n",
    "    print(col, data[col].nunique())"
   ]
  },
  {
   "cell_type": "markdown",
   "metadata": {
    "heading_collapsed": true
   },
   "source": [
    "### Tagwise sum of upvotes and answers"
   ]
  },
  {
   "cell_type": "code",
   "execution_count": 8,
   "metadata": {
    "ExecuteTime": {
     "end_time": "2019-01-09T17:34:37.512864Z",
     "start_time": "2019-01-09T17:34:37.293429Z"
    },
    "hidden": true,
    "scrolled": true
   },
   "outputs": [],
   "source": [
    "sum_df=data.groupby(by='Tag').sum()\n",
    "avg_df=data.groupby(by='Tag').mean()"
   ]
  },
  {
   "cell_type": "code",
   "execution_count": 9,
   "metadata": {
    "ExecuteTime": {
     "end_time": "2019-01-09T17:34:37.813350Z",
     "start_time": "2019-01-09T17:34:37.514842Z"
    },
    "hidden": true
   },
   "outputs": [
    {
     "data": {
      "image/png": "[encoded data removed]",
      "text/plain": [
       "<Figure size 864x576 with 2 Axes>"
      ]
     },
     "metadata": {},
     "output_type": "display_data"
    }
   ],
   "source": [
    "plt.figure(figsize=(12,8))\n",
    "plt.subplot(1,2,1)\n",
    "sum_df['Upvotes'].plot(kind='bar',cmap='tab20')\n",
    "plt.ylabel('Upvotes')\n",
    "plt.subplot(1,2,2)\n",
    "sum_df['Answers'].plot(kind='bar',cmap='tab20')\n",
    "plt.ylabel('Answers')\n",
    "plt.tight_layout()"
   ]
  },
  {
   "cell_type": "markdown",
   "metadata": {
    "heading_collapsed": true
   },
   "source": [
    "### Checking correlations"
   ]
  },
  {
   "cell_type": "code",
   "execution_count": 10,
   "metadata": {
    "ExecuteTime": {
     "end_time": "2019-01-09T17:34:37.900035Z",
     "start_time": "2019-01-09T17:34:37.816342Z"
    },
    "hidden": true
   },
   "outputs": [],
   "source": [
    "corr_matrix=data[['Reputation', 'Answers', 'Username', 'Views', 'Upvotes']].corr()"
   ]
  },
  {
   "cell_type": "code",
   "execution_count": 11,
   "metadata": {
    "ExecuteTime": {
     "end_time": "2019-01-09T17:34:38.191514Z",
     "start_time": "2019-01-09T17:34:37.903013Z"
    },
    "hidden": true
   },
   "outputs": [
    {
     "data": {
      "text/plain": [
       "<matplotlib.axes._subplots.AxesSubplot at 0x19f27614278>"
      ]
     },
     "execution_count": 11,
     "metadata": {},
     "output_type": "execute_result"
    },
    {
     "data": {
      "image/png": "[encoded data removed]",
      "text/plain": [
       "<Figure size 432x288 with 2 Axes>"
      ]
     },
     "metadata": {},
     "output_type": "display_data"
    }
   ],
   "source": [
    "#no highly correlated features\n",
    "#username is not at all correlated with any feature\n",
    "#it has a lot of unique values. It can be ignored\n",
    "sns.heatmap(corr_matrix,cmap='viridis',annot=True)"
   ]
  },
  {
   "cell_type": "markdown",
   "metadata": {},
   "source": [
    "### Feature Engineering"
   ]
  },
  {
   "cell_type": "markdown",
   "metadata": {},
   "source": [
    "As features are very less, not much feature engineering can be done.\n",
    "I've done following feature engineering:\n",
    "1. Polynomial features from numerical features\n",
    "2. One hot encoding of **Tag**\n",
    "3. Tag-wise mean of numberical features\n",
    "4. Removing some features with high variance inflation factor. This step is necessary of Linear Regression model."
   ]
  },
  {
   "cell_type": "code",
   "execution_count": 12,
   "metadata": {
    "ExecuteTime": {
     "end_time": "2019-01-09T17:34:38.499716Z",
     "start_time": "2019-01-09T17:34:38.194492Z"
    }
   },
   "outputs": [],
   "source": [
    "data=pd.read_csv('data/train_NIR5Yl1.csv')"
   ]
  },
  {
   "cell_type": "code",
   "execution_count": 13,
   "metadata": {
    "ExecuteTime": {
     "end_time": "2019-01-09T17:34:38.504663Z",
     "start_time": "2019-01-09T17:34:38.501671Z"
    }
   },
   "outputs": [],
   "source": [
    "num_features=['Reputation', 'Answers', 'Views']"
   ]
  },
  {
   "cell_type": "code",
   "execution_count": 14,
   "metadata": {
    "ExecuteTime": {
     "end_time": "2019-01-09T17:34:38.781482Z",
     "start_time": "2019-01-09T17:34:38.507658Z"
    }
   },
   "outputs": [],
   "source": [
    "#1. Getting polynomial features and selecting only newly created features\n",
    "poly=PolynomialFeatures(degree=2,include_bias=False)\n",
    "tmp=pd.DataFrame(poly.fit_transform(data[num_features])).loc[:,len(num_features):]\n",
    "data=data.join(tmp)"
   ]
  },
  {
   "cell_type": "code",
   "execution_count": 15,
   "metadata": {
    "ExecuteTime": {
     "end_time": "2019-01-09T17:34:38.787468Z",
     "start_time": "2019-01-09T17:34:38.783497Z"
    }
   },
   "outputs": [],
   "source": [
    "# data['Reputation_Views']=data['Reputation']*data['Views']"
   ]
  },
  {
   "cell_type": "code",
   "execution_count": 16,
   "metadata": {
    "ExecuteTime": {
     "end_time": "2019-01-09T17:34:39.066010Z",
     "start_time": "2019-01-09T17:34:38.789463Z"
    }
   },
   "outputs": [],
   "source": [
    "#2. Tag-wise mean of numberical features\n",
    "tmp=data.groupby('Tag')[num_features].mean()\n",
    "tmp.columns=tmp.columns+'_mean'\n",
    "data=pd.merge(data,tmp.reset_index(),how='left',on='Tag')"
   ]
  },
  {
   "cell_type": "code",
   "execution_count": 17,
   "metadata": {
    "ExecuteTime": {
     "end_time": "2019-01-09T17:34:39.329336Z",
     "start_time": "2019-01-09T17:34:39.069031Z"
    }
   },
   "outputs": [],
   "source": [
    "# Username wise count of upvotes. Fill nulls with 0\n",
    "uname_count=data.groupby('Username')['Upvotes'].count().reset_index()\n",
    "uname_count.rename(columns={'Upvotes':'User_Upvote_Count'},inplace=True)\n",
    "data=pd.merge(data,uname_count,how='left',on='Username')\n",
    "data['User_Upvote_Count'].fillna(0,inplace=True)"
   ]
  },
  {
   "cell_type": "code",
   "execution_count": 18,
   "metadata": {
    "ExecuteTime": {
     "end_time": "2019-01-09T17:34:39.727267Z",
     "start_time": "2019-01-09T17:34:39.332299Z"
    }
   },
   "outputs": [],
   "source": [
    "data['uv']=data['Upvotes']/data['Views']\n",
    "uname_uv=data.groupby('Username')['uv'].mean().reset_index()\n",
    "uname_uv.rename(columns={'uv':'User_Upvote_Views_Mean'},inplace=True)\n",
    "data=pd.merge(data,uname_uv,how='left',on='Username')\n",
    "data['User_Upvote_Views_Mean'].fillna(0,inplace=True)\n",
    "\n",
    "data.drop('uv',axis=1,inplace=True)"
   ]
  },
  {
   "cell_type": "code",
   "execution_count": 19,
   "metadata": {
    "ExecuteTime": {
     "end_time": "2019-01-09T17:34:39.862910Z",
     "start_time": "2019-01-09T17:34:39.729237Z"
    }
   },
   "outputs": [],
   "source": [
    "#3. One hot encoding of Tag\n",
    "dummies=pd.get_dummies(data['Tag'],drop_first=True)\n",
    "data=pd.concat([data,dummies],axis=1)\n",
    "data.drop('Tag',axis=1,inplace=True)"
   ]
  },
  {
   "cell_type": "code",
   "execution_count": 20,
   "metadata": {
    "ExecuteTime": {
     "end_time": "2019-01-09T17:34:39.895835Z",
     "start_time": "2019-01-09T17:34:39.864893Z"
    }
   },
   "outputs": [],
   "source": [
    "X=data.drop('Upvotes',axis=1)\n",
    "y=data['Upvotes']"
   ]
  },
  {
   "cell_type": "code",
   "execution_count": 21,
   "metadata": {
    "ExecuteTime": {
     "end_time": "2019-01-09T17:36:38.107054Z",
     "start_time": "2019-01-09T17:34:39.897786Z"
    }
   },
   "outputs": [
    {
     "name": "stderr",
     "output_type": "stream",
     "text": [
      "C:\\Users\\Asus\\Anaconda3\\lib\\site-packages\\statsmodels\\stats\\outliers_influence.py:181: RuntimeWarning: divide by zero encountered in double_scalars\n",
      "  vif = 1. / (1. - r_squared_i)\n"
     ]
    },
    {
     "name": "stdout",
     "output_type": "stream",
     "text": [
      "x , VIF:  inf\n",
      "p , VIF:  inf\n",
      "Views_mean , VIF:  78.69947049411702\n",
      "7 , VIF:  9.242162326633581\n",
      "Reputation_mean , VIF:  8.408038205010403\n"
     ]
    }
   ],
   "source": [
    "#4. Check multicolinearity\n",
    "removed_by_vif=remove_by_vif(X.copy())\n",
    "# removed_by_vif=['p','j','c']\n",
    "X=X.drop(removed_by_vif,axis=1)"
   ]
  },
  {
   "cell_type": "code",
   "execution_count": 22,
   "metadata": {
    "ExecuteTime": {
     "end_time": "2019-01-09T17:36:38.138971Z",
     "start_time": "2019-01-09T17:36:38.109049Z"
    }
   },
   "outputs": [],
   "source": [
    "X.drop('ID',axis=1,inplace=True)"
   ]
  },
  {
   "cell_type": "code",
   "execution_count": null,
   "metadata": {},
   "outputs": [],
   "source": []
  },
  {
   "cell_type": "markdown",
   "metadata": {},
   "source": [
    "### Train Test Split\n",
    "\n",
    "* I have made 3 splits of data : Train, Validation and Test\n",
    "* Performed standard scaling"
   ]
  },
  {
   "cell_type": "code",
   "execution_count": 23,
   "metadata": {
    "ExecuteTime": {
     "end_time": "2019-01-09T17:36:38.370999Z",
     "start_time": "2019-01-09T17:36:38.141963Z"
    }
   },
   "outputs": [],
   "source": [
    "#train-test split\n",
    "X_train, X_test, y_train, y_test = train_test_split(X, y, test_size=0.2, random_state=60)"
   ]
  },
  {
   "cell_type": "code",
   "execution_count": 24,
   "metadata": {
    "ExecuteTime": {
     "end_time": "2019-01-09T17:36:38.460934Z",
     "start_time": "2019-01-09T17:36:38.372900Z"
    }
   },
   "outputs": [],
   "source": [
    "X_train, X_val, y_train, y_val = train_test_split(X_train, y_train, test_size=0.2, random_state=60)"
   ]
  },
  {
   "cell_type": "code",
   "execution_count": 25,
   "metadata": {
    "ExecuteTime": {
     "end_time": "2019-01-09T17:36:38.516349Z",
     "start_time": "2019-01-09T17:36:38.462902Z"
    }
   },
   "outputs": [],
   "source": [
    "# #remove outliers based on Upvotes\n",
    "# index=y_train[y_train<50000].index\n",
    "# X_train=X_train.loc[index]\n",
    "# y_train=y_train.loc[index]"
   ]
  },
  {
   "cell_type": "code",
   "execution_count": 26,
   "metadata": {
    "ExecuteTime": {
     "end_time": "2019-01-09T17:36:38.601260Z",
     "start_time": "2019-01-09T17:36:38.518271Z"
    },
    "scrolled": true
   },
   "outputs": [],
   "source": [
    "# #Transform features\n",
    "\n",
    "# X_train['Views']=X_train['Views'].apply(lambda x: np.log1p(x)**3.5)\n",
    "# X_train['Reputation']=X_train['Reputation'].apply(lambda x: np.log1p(x)**3)"
   ]
  },
  {
   "cell_type": "code",
   "execution_count": 27,
   "metadata": {
    "ExecuteTime": {
     "end_time": "2019-01-09T17:36:38.887749Z",
     "start_time": "2019-01-09T17:36:38.603216Z"
    },
    "scrolled": true
   },
   "outputs": [],
   "source": [
    "#scaling\n",
    "std=StandardScaler()\n",
    "X_train_scaled=pd.DataFrame(std.fit_transform(X_train),columns=X_train.columns,index=X_train.index)\n",
    "X_val_scaled=pd.DataFrame(std.transform(X_val),columns=X_val.columns,index=X_val.index)\n",
    "X_test_scaled=pd.DataFrame(std.transform(X_test),columns=X_test.columns,index=X_test.index)"
   ]
  },
  {
   "cell_type": "code",
   "execution_count": null,
   "metadata": {
    "ExecuteTime": {
     "end_time": "2018-12-26T17:32:21.852903Z",
     "start_time": "2018-12-26T17:32:21.848904Z"
    }
   },
   "outputs": [],
   "source": []
  },
  {
   "cell_type": "markdown",
   "metadata": {},
   "source": [
    "## ML\n",
    "I have trained following models\n",
    "1. Linear Regression\n",
    "2. XGBoost\n",
    "3. Stacking of Linear Regression and XGBoost"
   ]
  },
  {
   "cell_type": "code",
   "execution_count": 28,
   "metadata": {
    "ExecuteTime": {
     "end_time": "2019-01-09T17:36:38.893738Z",
     "start_time": "2019-01-09T17:36:38.889754Z"
    }
   },
   "outputs": [],
   "source": [
    "scoring='neg_mean_squared_error'"
   ]
  },
  {
   "cell_type": "markdown",
   "metadata": {},
   "source": [
    "### Linear Regression"
   ]
  },
  {
   "cell_type": "code",
   "execution_count": 29,
   "metadata": {
    "ExecuteTime": {
     "end_time": "2019-01-09T17:36:42.603149Z",
     "start_time": "2019-01-09T17:36:38.895730Z"
    },
    "scrolled": true
   },
   "outputs": [
    {
     "name": "stdout",
     "output_type": "stream",
     "text": [
      "RMSE:  1382.5789418388047\n"
     ]
    }
   ],
   "source": [
    "lr=LinearRegression()\n",
    "scores=cross_val_score(lr,X_train_scaled,y_train,n_jobs=-1,cv=5,scoring=scoring)\n",
    "print('RMSE: ',np.sqrt(-scores).mean())"
   ]
  },
  {
   "cell_type": "code",
   "execution_count": 30,
   "metadata": {
    "ExecuteTime": {
     "end_time": "2019-01-09T17:36:42.779651Z",
     "start_time": "2019-01-09T17:36:42.605119Z"
    }
   },
   "outputs": [
    {
     "data": {
      "text/plain": [
       "LinearRegression(copy_X=True, fit_intercept=True, n_jobs=1, normalize=False)"
      ]
     },
     "execution_count": 30,
     "metadata": {},
     "output_type": "execute_result"
    }
   ],
   "source": [
    "lr.fit(X_train_scaled,y_train)"
   ]
  },
  {
   "cell_type": "code",
   "execution_count": 31,
   "metadata": {
    "ExecuteTime": {
     "end_time": "2019-01-09T17:36:42.810568Z",
     "start_time": "2019-01-09T17:36:42.782644Z"
    }
   },
   "outputs": [
    {
     "name": "stdout",
     "output_type": "stream",
     "text": [
      "Train RMSE: 1240.5542283011553\n",
      "Test RMSE: 788.5061248540156\n"
     ]
    }
   ],
   "source": [
    "# Result on test\n",
    "y_train_pred=lr.predict(X_train_scaled)\n",
    "y_val_pred=lr.predict(X_val_scaled)\n",
    "y_pred_lr=np.append(y_train_pred,y_val_pred)\n",
    "print('Train RMSE:',np.sqrt(mean_squared_error(y_train,y_train_pred)))\n",
    "print('Test RMSE:',np.sqrt(mean_squared_error(y_val,y_val_pred)))"
   ]
  },
  {
   "cell_type": "code",
   "execution_count": null,
   "metadata": {
    "ExecuteTime": {
     "end_time": "2018-12-26T18:15:27.486303Z",
     "start_time": "2018-12-26T18:15:27.480318Z"
    }
   },
   "outputs": [],
   "source": []
  },
  {
   "cell_type": "markdown",
   "metadata": {},
   "source": [
    "### XGB\n",
    "\n",
    "* I have used **Bayesian Optimization** to tune hyperparameters of the model\n",
    "* XGBoost is over-fitting on data\n",
    "* Cross-validation score of XGBoost is better than Linear Regression"
   ]
  },
  {
   "cell_type": "code",
   "execution_count": 32,
   "metadata": {
    "ExecuteTime": {
     "end_time": "2019-01-09T17:36:53.067163Z",
     "start_time": "2019-01-09T17:36:42.813561Z"
    },
    "code_folding": [
     0
    ]
   },
   "outputs": [
    {
     "name": "stdout",
     "output_type": "stream",
     "text": [
      "Train RMSE: 611.2439403770467\n",
      "Test RMSE: 917.6307110584477\n"
     ]
    }
   ],
   "source": [
    "# Baseline Model\n",
    "xgb=XGBRegressor(random_state=50)\n",
    "xgb.fit(X_train_scaled,y_train)\n",
    "y_train_pred=xgb.predict(X_train_scaled)\n",
    "y_val_pred=xgb.predict(X_val_scaled)\n",
    "print('Train RMSE:',np.sqrt(mean_squared_error(y_train,y_train_pred)))\n",
    "print('Test RMSE:',np.sqrt(mean_squared_error(y_val,y_val_pred)))"
   ]
  },
  {
   "cell_type": "code",
   "execution_count": 33,
   "metadata": {
    "ExecuteTime": {
     "end_time": "2019-01-09T17:43:06.774479Z",
     "start_time": "2019-01-09T17:36:53.069151Z"
    },
    "code_folding": [
     0
    ]
   },
   "outputs": [
    {
     "name": "stdout",
     "output_type": "stream",
     "text": [
      "[23:12:59] Tree method is selected to be 'approx'\n"
     ]
    },
    {
     "data": {
      "text/plain": [
       "BayesSearchCV(cv=3, error_score='raise',\n",
       "       estimator=XGBRegressor(base_score=0.5, booster='gbtree', colsample_bylevel=1,\n",
       "       colsample_bytree=1, gamma=0, learning_rate=0.1, max_delta_step=0,\n",
       "       max_depth=3, min_child_weight=1, missing=None, n_estimators=100,\n",
       "       n_jobs=-1, nthread=None, objective='reg:linear', random_state=0,\n",
       "       reg_alpha=0, reg_lambda=1, scale_pos_weight=1, seed=None,\n",
       "       silent=True, subsample=1, tree_method='approx'),\n",
       "       fit_params=None, iid=True, n_iter=50, n_jobs=-1, n_points=1,\n",
       "       optimizer_kwargs=None, pre_dispatch='2*n_jobs', random_state=42,\n",
       "       refit=True, return_train_score=False,\n",
       "       scoring='neg_mean_squared_error',\n",
       "       search_spaces={'learning_rate': (0.01, 1.0, 'log-uniform'), 'min_child_weight': (0, 20), 'max_depth': (3, 5), 'subsample': (0.1, 1.0, 'uniform'), 'colsample_bytree': (0.1, 1.0, 'uniform'), 'colsample_bylevel': (0.1, 1.0, 'uniform'), 'reg_lambda': (0.001, 1000, 'log-uniform'), 'reg_alpha': (0.001, 1.0, 'log-uniform'), 'base_score': (0.0001, 0.5, 'log-uniform')},\n",
       "       verbose=0)"
      ]
     },
     "execution_count": 33,
     "metadata": {},
     "output_type": "execute_result"
    }
   ],
   "source": [
    "# Bayesian Optimization\n",
    "opt = BayesSearchCV(\n",
    "    estimator = XGBRegressor(\n",
    "        n_jobs = -1,\n",
    "        tree_method='approx'\n",
    "    ),\n",
    "    search_spaces = {\n",
    "        'learning_rate': (0.01, 1.0, 'log-uniform'),\n",
    "        'min_child_weight': (0, 20),\n",
    "        'max_depth': (3, 5),\n",
    "#         'max_delta_step': (0, 20),\n",
    "        'subsample': (0.1, 1.0, 'uniform'),\n",
    "        'colsample_bytree': (0.1, 1.0, 'uniform'),\n",
    "        'colsample_bylevel': (0.1, 1.0, 'uniform'),\n",
    "        'reg_lambda': (1e-3, 1000, 'log-uniform'),\n",
    "        'reg_alpha': (1e-3, 1.0, 'log-uniform'),\n",
    "#         'gamma': (1e-9, 0.5, 'log-uniform'),\n",
    "        'base_score':((1e-4, 0.5, 'log-uniform'))\n",
    "    },    \n",
    "    scoring = scoring,\n",
    "    cv =3,\n",
    "    n_jobs = -1,\n",
    "    refit = True,\n",
    "    random_state = 42\n",
    ")\n",
    "\n",
    "opt.fit(X_train_scaled,y_train)"
   ]
  },
  {
   "cell_type": "code",
   "execution_count": 34,
   "metadata": {
    "ExecuteTime": {
     "end_time": "2019-01-09T17:43:06.783436Z",
     "start_time": "2019-01-09T17:43:06.777462Z"
    }
   },
   "outputs": [
    {
     "data": {
      "text/plain": [
       "{'base_score': 0.03198482324113894,\n",
       " 'colsample_bylevel': 0.6992072058798394,\n",
       " 'colsample_bytree': 0.6224051267215517,\n",
       " 'learning_rate': 0.11238011005002531,\n",
       " 'max_depth': 4,\n",
       " 'min_child_weight': 3,\n",
       " 'reg_alpha': 0.013926195709085923,\n",
       " 'reg_lambda': 0.02730503272952669,\n",
       " 'subsample': 0.6281586354493193}"
      ]
     },
     "execution_count": 34,
     "metadata": {},
     "output_type": "execute_result"
    }
   ],
   "source": [
    "opt.best_params_"
   ]
  },
  {
   "cell_type": "code",
   "execution_count": 35,
   "metadata": {
    "ExecuteTime": {
     "end_time": "2019-01-09T17:43:15.234343Z",
     "start_time": "2019-01-09T17:43:06.785430Z"
    },
    "code_folding": [
     0
    ]
   },
   "outputs": [
    {
     "name": "stdout",
     "output_type": "stream",
     "text": [
      "Train RMSE: 567.3019604832035\n",
      "Test RMSE: 858.9920844201926\n"
     ]
    }
   ],
   "source": [
    "#Tuned Model\n",
    "xgb=XGBRegressor(random_state=51,n_jobs=-1,**opt.best_params_)\n",
    "xgb.fit(X_train_scaled,y_train)\n",
    "y_train_pred=xgb.predict(X_train_scaled)\n",
    "y_val_pred=xgb.predict(X_val_scaled)\n",
    "y_pred_xgb=np.append(y_train_pred,y_val_pred)\n",
    "print('Train RMSE:',np.sqrt(mean_squared_error(y_train,y_train_pred)))\n",
    "print('Test RMSE:',np.sqrt(mean_squared_error(y_val,y_val_pred)))"
   ]
  },
  {
   "cell_type": "code",
   "execution_count": 36,
   "metadata": {
    "ExecuteTime": {
     "end_time": "2019-01-09T17:43:23.644600Z",
     "start_time": "2019-01-09T17:43:15.236337Z"
    },
    "code_folding": [
     0
    ]
   },
   "outputs": [
    {
     "name": "stdout",
     "output_type": "stream",
     "text": [
      "RMSE:  1239.7525300129541\n"
     ]
    }
   ],
   "source": [
    "#cross-val-score\n",
    "xgb=XGBRegressor(random_state=50,**opt.best_params_)\n",
    "scores=cross_val_score(xgb,X_train_scaled,y_train,n_jobs=-1,cv=3,scoring=scoring)\n",
    "print('RMSE: ',np.sqrt(-scores).mean())"
   ]
  },
  {
   "cell_type": "code",
   "execution_count": 37,
   "metadata": {
    "ExecuteTime": {
     "end_time": "2019-01-09T17:43:31.498591Z",
     "start_time": "2019-01-09T17:43:23.647593Z"
    }
   },
   "outputs": [
    {
     "data": {
      "text/html": [
       "<div>\n",
       "<style scoped>\n",
       "    .dataframe tbody tr th:only-of-type {\n",
       "        vertical-align: middle;\n",
       "    }\n",
       "\n",
       "    .dataframe tbody tr th {\n",
       "        vertical-align: top;\n",
       "    }\n",
       "\n",
       "    .dataframe thead th {\n",
       "        text-align: right;\n",
       "    }\n",
       "</style>\n",
       "<table border=\"1\" class=\"dataframe\">\n",
       "  <thead>\n",
       "    <tr style=\"text-align: right;\">\n",
       "      <th></th>\n",
       "      <th>0</th>\n",
       "    </tr>\n",
       "  </thead>\n",
       "  <tbody>\n",
       "    <tr>\n",
       "      <th>5</th>\n",
       "      <td>0.211934</td>\n",
       "    </tr>\n",
       "    <tr>\n",
       "      <th>Views</th>\n",
       "      <td>0.152263</td>\n",
       "    </tr>\n",
       "    <tr>\n",
       "      <th>4</th>\n",
       "      <td>0.130658</td>\n",
       "    </tr>\n",
       "    <tr>\n",
       "      <th>Reputation</th>\n",
       "      <td>0.104938</td>\n",
       "    </tr>\n",
       "    <tr>\n",
       "      <th>8</th>\n",
       "      <td>0.099794</td>\n",
       "    </tr>\n",
       "  </tbody>\n",
       "</table>\n",
       "</div>"
      ],
      "text/plain": [
       "                   0\n",
       "5           0.211934\n",
       "Views       0.152263\n",
       "4           0.130658\n",
       "Reputation  0.104938\n",
       "8           0.099794"
      ]
     },
     "execution_count": 37,
     "metadata": {},
     "output_type": "execute_result"
    }
   ],
   "source": [
    "#Feature importance\n",
    "xgb=XGBRegressor(random_state=51,n_jobs=-1,**opt.best_params_)\n",
    "xgb.fit(X_train_scaled,y_train)\n",
    "pd.DataFrame(xgb.feature_importances_,index=X_train.columns).sort_values(0,ascending=False).head()"
   ]
  },
  {
   "cell_type": "markdown",
   "metadata": {},
   "source": [
    "#### Learning Curve"
   ]
  },
  {
   "cell_type": "code",
   "execution_count": 38,
   "metadata": {
    "ExecuteTime": {
     "end_time": "2019-01-09T17:43:50.369480Z",
     "start_time": "2019-01-09T17:43:31.500585Z"
    }
   },
   "outputs": [
    {
     "data": {
      "text/plain": [
       "<matplotlib.legend.Legend at 0x19f2737df98>"
      ]
     },
     "execution_count": 38,
     "metadata": {},
     "output_type": "execute_result"
    },
    {
     "data": {
      "image/png": "[encoded data removed]",
      "text/plain": [
       "<Figure size 864x576 with 1 Axes>"
      ]
     },
     "metadata": {},
     "output_type": "display_data"
    }
   ],
   "source": [
    "xgb=XGBRegressor(random_state=51,**opt.best_params_)\n",
    "lc=learning_curve(xgb,X_train_scaled,y_train,cv=3,n_jobs=-1,scoring=scoring)\n",
    "size=lc[0]\n",
    "train_score=[-lc[1][i].mean() for i in range (0,5)]\n",
    "test_score=[-lc[2][i].mean() for i in range (0,5)]\n",
    "fig=plt.figure(figsize=(12,8))\n",
    "plt.plot(size,np.sqrt(train_score),label='Train')\n",
    "plt.plot(size,np.sqrt(test_score),label=\"Test\")\n",
    "plt.legend()\n",
    "#Overfit"
   ]
  },
  {
   "cell_type": "markdown",
   "metadata": {},
   "source": [
    "### Stacking\n",
    "* Taking simple average of results of Linear Regression and XGBoost model\n",
    "* This has reduced over-fitting nature of XGBoost"
   ]
  },
  {
   "cell_type": "code",
   "execution_count": 39,
   "metadata": {
    "ExecuteTime": {
     "end_time": "2019-01-09T17:43:50.379460Z",
     "start_time": "2019-01-09T17:43:50.372450Z"
    }
   },
   "outputs": [],
   "source": [
    "y_pred_stack=(y_pred_lr+y_pred_xgb)/2"
   ]
  },
  {
   "cell_type": "code",
   "execution_count": 40,
   "metadata": {
    "ExecuteTime": {
     "end_time": "2019-01-09T17:43:50.522571Z",
     "start_time": "2019-01-09T17:43:50.381426Z"
    }
   },
   "outputs": [
    {
     "name": "stdout",
     "output_type": "stream",
     "text": [
      "Train RMSE: 809.0433669890301\n",
      "Test RMSE: 792.6400213657131\n"
     ]
    }
   ],
   "source": [
    "y_train_pred=y_pred_stack[:len(y_train)]\n",
    "y_val_pred=y_pred_stack[len(y_train):]\n",
    "print('Train RMSE:',np.sqrt(mean_squared_error(y_train,y_train_pred)))\n",
    "print('Test RMSE:',np.sqrt(mean_squared_error(y_val,y_val_pred)))"
   ]
  },
  {
   "cell_type": "code",
   "execution_count": null,
   "metadata": {},
   "outputs": [],
   "source": []
  },
  {
   "cell_type": "markdown",
   "metadata": {},
   "source": [
    "### Result on test data"
   ]
  },
  {
   "cell_type": "code",
   "execution_count": 41,
   "metadata": {
    "ExecuteTime": {
     "end_time": "2019-01-09T17:43:50.664492Z",
     "start_time": "2019-01-09T17:43:50.524553Z"
    }
   },
   "outputs": [],
   "source": [
    "X_train_1=pd.concat([X_train_scaled,X_val_scaled])\n",
    "y_train_1=pd.concat([y_train,y_val])"
   ]
  },
  {
   "cell_type": "code",
   "execution_count": 42,
   "metadata": {
    "ExecuteTime": {
     "end_time": "2019-01-09T17:43:50.984964Z",
     "start_time": "2019-01-09T17:43:50.667407Z"
    }
   },
   "outputs": [],
   "source": [
    "lr.fit(X_train_1,y_train_1)\n",
    "y_pred_lr=lr.predict(X_test_scaled)"
   ]
  },
  {
   "cell_type": "code",
   "execution_count": 43,
   "metadata": {
    "ExecuteTime": {
     "end_time": "2019-01-09T17:44:01.072347Z",
     "start_time": "2019-01-09T17:43:50.986958Z"
    }
   },
   "outputs": [
    {
     "name": "stdout",
     "output_type": "stream",
     "text": [
      "Test RMSE: 1170.779718791324\n"
     ]
    }
   ],
   "source": [
    "# XGB\n",
    "xgb=XGBRegressor(random_state=51,n_jobs=-1,**opt.best_params_)\n",
    "xgb.fit(X_train_1,y_train_1)\n",
    "y_pred_xgb=xgb.predict(X_test_scaled)\n",
    "print('Test RMSE:',np.sqrt(mean_squared_error(y_test,y_pred_xgb)))"
   ]
  },
  {
   "cell_type": "code",
   "execution_count": 44,
   "metadata": {
    "ExecuteTime": {
     "end_time": "2019-01-09T17:44:01.081323Z",
     "start_time": "2019-01-09T17:44:01.074342Z"
    }
   },
   "outputs": [
    {
     "name": "stdout",
     "output_type": "stream",
     "text": [
      "Test RMSE: 939.079370196267\n"
     ]
    }
   ],
   "source": [
    "#Stack\n",
    "y_pred_stack=(y_pred_lr+y_pred_xgb)/2\n",
    "print('Test RMSE:',np.sqrt(mean_squared_error(y_test,y_pred_stack)))"
   ]
  },
  {
   "cell_type": "code",
   "execution_count": null,
   "metadata": {},
   "outputs": [],
   "source": []
  },
  {
   "cell_type": "markdown",
   "metadata": {},
   "source": [
    "## Submission on Test Data\n",
    "Generate submission file to submit results on competition website"
   ]
  },
  {
   "cell_type": "code",
   "execution_count": 45,
   "metadata": {
    "ExecuteTime": {
     "end_time": "2019-01-09T17:44:01.473574Z",
     "start_time": "2019-01-09T17:44:01.083319Z"
    }
   },
   "outputs": [],
   "source": [
    "test=pd.read_csv('data/test_8i3B3FC.csv')"
   ]
  },
  {
   "cell_type": "code",
   "execution_count": 46,
   "metadata": {
    "ExecuteTime": {
     "end_time": "2019-01-09T17:44:02.156923Z",
     "start_time": "2019-01-09T17:44:01.475578Z"
    },
    "code_folding": []
   },
   "outputs": [],
   "source": [
    "# Data preparation\n",
    "X_scaled=pd.DataFrame(std.fit_transform(X),columns=X.columns,index=X.index)\n",
    "\n",
    "# Polynomial Features\n",
    "tmp=pd.DataFrame(poly.transform(test[num_features])).loc[:,len(num_features):]\n",
    "test=test.join(tmp)\n",
    "\n",
    "#Tag wise mean of num features\n",
    "tmp=test.groupby('Tag')[num_features].mean()\n",
    "tmp.columns=tmp.columns+'_mean'\n",
    "test=pd.merge(test,tmp.reset_index(),how='left',on='Tag')\n",
    "\n",
    "# Userwise upvotes count\n",
    "test=pd.merge(test,uname_count,how='left',on='Username')\n",
    "test['User_Upvote_Count'].fillna(0,inplace=True)\n",
    "\n",
    "# Userwise upvotes,views mean\n",
    "test=pd.merge(test,uname_uv,how='left',on='Username')\n",
    "test['User_Upvote_Views_Mean'].fillna(0,inplace=True)\n",
    "\n",
    "# One hot encoding of Tag\n",
    "dummies=pd.get_dummies(test['Tag'],drop_first=True)\n",
    "test=pd.concat([test,dummies],axis=1)\n",
    "test.drop('Tag',axis=1,inplace=True)\n",
    "\n",
    "# remove columns with high vif\n",
    "test_ids=test['ID']\n",
    "test.drop(['ID']+removed_by_vif,axis=1,inplace=True)\n",
    "\n",
    "#scaling\n",
    "test_scaled=pd.DataFrame(std.transform(test),columns=test.columns)"
   ]
  },
  {
   "cell_type": "code",
   "execution_count": 47,
   "metadata": {
    "ExecuteTime": {
     "end_time": "2019-01-09T17:44:16.139426Z",
     "start_time": "2019-01-09T17:44:02.159822Z"
    }
   },
   "outputs": [
    {
     "data": {
      "text/plain": [
       "XGBRegressor(base_score=0.03198482324113894, booster='gbtree',\n",
       "       colsample_bylevel=0.6992072058798394,\n",
       "       colsample_bytree=0.6224051267215517, gamma=0,\n",
       "       learning_rate=0.11238011005002531, max_delta_step=0, max_depth=4,\n",
       "       min_child_weight=3, missing=None, n_estimators=100, n_jobs=-1,\n",
       "       nthread=None, objective='reg:linear', random_state=51,\n",
       "       reg_alpha=0.013926195709085923, reg_lambda=0.02730503272952669,\n",
       "       scale_pos_weight=1, seed=None, silent=True,\n",
       "       subsample=0.6281586354493193)"
      ]
     },
     "execution_count": 47,
     "metadata": {},
     "output_type": "execute_result"
    }
   ],
   "source": [
    "lr=LinearRegression()\n",
    "xgb=XGBRegressor(random_state=51,n_jobs=-1,**opt.best_params_)\n",
    "std=StandardScaler()\n",
    "lr.fit(X_scaled,y)\n",
    "xgb.fit(X_scaled,y)"
   ]
  },
  {
   "cell_type": "code",
   "execution_count": 48,
   "metadata": {
    "ExecuteTime": {
     "end_time": "2019-01-09T17:44:16.403811Z",
     "start_time": "2019-01-09T17:44:16.141421Z"
    }
   },
   "outputs": [],
   "source": [
    "y_pred_lr=lr.predict(test_scaled)\n",
    "y_pred_xgb=xgb.predict(test_scaled)\n",
    "y_pred_stacked=(y_pred_lr+y_pred_xgb)/2"
   ]
  },
  {
   "cell_type": "code",
   "execution_count": 49,
   "metadata": {
    "ExecuteTime": {
     "end_time": "2019-01-09T17:44:16.466577Z",
     "start_time": "2019-01-09T17:44:16.405739Z"
    }
   },
   "outputs": [],
   "source": [
    "submission=pd.DataFrame(index=test_ids)\n",
    "submission['Upvotes']=list(map(int,y_pred_stacked))"
   ]
  },
  {
   "cell_type": "code",
   "execution_count": 50,
   "metadata": {
    "ExecuteTime": {
     "end_time": "2019-01-09T17:44:16.914943Z",
     "start_time": "2019-01-09T17:44:16.468545Z"
    }
   },
   "outputs": [],
   "source": [
    "submission.to_csv('Submission.csv')"
   ]
  },
  {
   "cell_type": "code",
   "execution_count": null,
   "metadata": {
    "ExecuteTime": {
     "end_time": "2018-12-26T17:51:40.183738Z",
     "start_time": "2018-12-26T17:51:40.172786Z"
    }
   },
   "outputs": [],
   "source": []
  },
  {
   "cell_type": "code",
   "execution_count": null,
   "metadata": {},
   "outputs": [],
   "source": []
  }
 ],
 "metadata": {
  "kernelspec": {
   "display_name": "Python 3",
   "language": "python",
   "name": "python3"
  },
  "language_info": {
   "codemirror_mode": {
    "name": "ipython",
    "version": 3
   },
   "file_extension": ".py",
   "mimetype": "text/x-python",
   "name": "python",
   "nbconvert_exporter": "python",
   "pygments_lexer": "ipython3",
   "version": "3.6.5"
  }
 },
 "nbformat": 4,
 "nbformat_minor": 2
}
